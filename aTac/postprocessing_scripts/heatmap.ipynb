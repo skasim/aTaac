{
 "cells": [
  {
   "cell_type": "code",
   "execution_count": 1,
   "metadata": {},
   "outputs": [],
   "source": [
    "# generate heatmap of opening moves which leads to a loss/win/draw"
   ]
  },
  {
   "cell_type": "code",
   "execution_count": 2,
   "metadata": {},
   "outputs": [],
   "source": [
    "import pandas as pd\n",
    "import numpy as np\n",
    "import ast\n",
    "import matplotlib.pyplot as plt\n",
    "import seaborn as sns"
   ]
  },
  {
   "cell_type": "code",
   "execution_count": 3,
   "metadata": {},
   "outputs": [],
   "source": [
    "def getMoves(board):\n",
    "    moves = []\n",
    "    for i in range(len(board)):\n",
    "        for j in range(len(board[i])):\n",
    "            if board[i][j] == 0:\n",
    "                moves.append((i, j))\n",
    "    return moves\n",
    "\n",
    "def check_win(arr):\n",
    "    \n",
    "    if len(arr) == 3:\n",
    "    \n",
    "        if arr[0] == arr[1] == arr[2] == 1:\n",
    "            return 1\n",
    "        elif arr[0] == arr[1] == arr[2] == 2:\n",
    "            return 2\n",
    "        else:\n",
    "            return False\n",
    "        \n",
    "    elif len(arr) == 4:\n",
    "\n",
    "        if arr[0] == arr[1] == arr[2] == arr[3] == 1:\n",
    "            return 1\n",
    "        elif arr[0] == arr[1] == arr[2] == arr[3] == 2:\n",
    "            return 2\n",
    "        else:\n",
    "            return False\n",
    "\n",
    "    elif len(arr) == 5:\n",
    "        \n",
    "        if arr[0] == arr[1] == arr[2] == arr[3] == 1:\n",
    "            return 1\n",
    "        elif arr[1] == arr[2] == arr[3] == arr[4] == 1:\n",
    "            return 1\n",
    "        elif arr[0] == arr[1] == arr[2] == arr[3] == 2:\n",
    "            return 2\n",
    "        elif arr[1] == arr[2] == arr[3] == arr[4] == 2:\n",
    "            return 2\n",
    "        else:\n",
    "            return False\n",
    "        \n",
    "def getWinner(board):\n",
    "    # represent the board as an array for easier manipulation\n",
    "    board_array = np.array(board)\n",
    "    wins = []\n",
    "    \n",
    "    n = len(board)\n",
    "    \n",
    "    \n",
    "    # iterate through columns to check for vertical wins\n",
    "    for j in range(n):\n",
    "        # slice each column, check for win\n",
    "        winner = check_win(board_array[:, j])\n",
    "        wins.append(winner)\n",
    "\n",
    "    # iterate through rows to check for horizontal wins\n",
    "    for i in range(n):\n",
    "        # slice each row, check for win\n",
    "        winner = check_win(board_array[i, :])\n",
    "        wins.append(winner)\n",
    "\n",
    "    # get diagonals of board\n",
    "    # note: this approach identifies ALL diagonals in the board (not only those of length 3), handled later\n",
    "    diags = [board_array[::-1, :].diagonal(i) for i in range(-board_array.shape[0] + 1, board_array.shape[1])]\n",
    "    diags.extend(board_array.diagonal(i) for i in range(board_array.shape[1] - 1, -board_array.shape[0], -1))\n",
    "\n",
    "    # only the main diagonal and anti diagonal can be used for a win, so check for win only in those\n",
    "    for each in diags:\n",
    "        if len(each) == 3:\n",
    "            wins.append(check_win(each))\n",
    "        else:\n",
    "            if len(each) >= 4:\n",
    "                wins.append(check_win(each))\n",
    "\n",
    "    # remove all booleans, leaving only integer values (1 or 2) to indicate a winner\n",
    "    wins2 = [win for win in wins if win]\n",
    "\n",
    "    # if there is no integer in wins2 (no winner yet) and if there are no more valid moves, it's a tie (return 0)\n",
    "    if not wins2:\n",
    "        if len(getMoves(board)) == 0:\n",
    "            return 0\n",
    "\n",
    "    # if there is an integer in wins2, there is a winner. return the winner, else, there are still moves to be made (return -1)\n",
    "    if wins2:\n",
    "        return wins2[0]\n",
    "    else:\n",
    "        return -1"
   ]
  },
  {
   "cell_type": "code",
   "execution_count": 4,
   "metadata": {},
   "outputs": [],
   "source": [
    "#filename = \"3x3game_p1minimax0_p2minimax5_2022_04_11-07_54_04_PM.csv\"\n",
    "filename = \"3x3_attacker.csv\"\n",
    "\n",
    "df = pd.read_csv(filename, header=None)\n",
    "df.columns = [\"Previous State\", \"Next State\", \"Player\", \"Cyber Move\", \"Game ID\"]"
   ]
  },
  {
   "cell_type": "code",
   "execution_count": 5,
   "metadata": {},
   "outputs": [],
   "source": [
    "#df[\"Game ID\"].value_counts()"
   ]
  },
  {
   "cell_type": "code",
   "execution_count": 6,
   "metadata": {},
   "outputs": [],
   "source": [
    "#df = df[df[\"Game ID\"] != \"95b9676d-93be-441d-a8b2-dcee450e79c5\"]\n",
    "#df = df[df[\"Game ID\"] != \"27008ba4-ca2f-4313-8cb5-8f48ead2f3f0\"]\n",
    "#df.reset_index(drop=True, inplace=True)\n",
    "#df[\"Game ID\"].value_counts()"
   ]
  },
  {
   "cell_type": "code",
   "execution_count": 7,
   "metadata": {},
   "outputs": [],
   "source": [
    "#df.tail()"
   ]
  },
  {
   "cell_type": "code",
   "execution_count": 8,
   "metadata": {},
   "outputs": [],
   "source": [
    "#df[df[\"Game ID\"] == \"0d1d27ed-505d-4a23-8052-8aa9267ac789\"]"
   ]
  },
  {
   "cell_type": "code",
   "execution_count": 9,
   "metadata": {},
   "outputs": [],
   "source": [
    "def get_first_move(df, game_id):\n",
    "    null_board = [[0, 0, 0], [0, 0, 0], [0, 0, 0]]\n",
    "    \n",
    "    game = df[df[\"Game ID\"] == game_id]\n",
    "    moves = game[\"Next State\"].to_list()\n",
    "    players = game[\"Player\"].to_list()\n",
    "    \n",
    "    last_state = ast.literal_eval(moves[-1])\n",
    "    board_length = len(last_state)\n",
    "    winner = getWinner(last_state)\n",
    "    \n",
    "    for i in range(len(moves)):\n",
    "        state = ast.literal_eval(moves[i])\n",
    "        #player = players[i]\n",
    "        if state == null_board:\n",
    "            continue\n",
    "        else:\n",
    "            first_state = state\n",
    "            indices = np.nonzero(first_state)\n",
    "            \n",
    "            # added this logic in due to potential errors in 5x5 output csv from shahin's games\n",
    "            if len(indices[0]) and len(indices[1]) > 0:\n",
    "                i = int(indices[0])\n",
    "                j = int(indices[1])\n",
    "                return (game_id, i, j, winner, board_length)\n",
    "            else:\n",
    "                continue"
   ]
  },
  {
   "cell_type": "code",
   "execution_count": 10,
   "metadata": {},
   "outputs": [],
   "source": [
    "def csv_game_stats(df, player=1):\n",
    "    unique_games = np.unique(df[\"Game ID\"])\n",
    "    total_games = len(unique_games)\n",
    "    stats = {\"win\": 0, \"loss\": 0, \"draw\": 0, \"total games\": total_games}\n",
    "    \n",
    "    for game_id in unique_games:\n",
    "        game = df[df[\"Game ID\"] == game_id]\n",
    "        moves = game[\"Next State\"].to_list()\n",
    "        last_state = ast.literal_eval(moves[-1])\n",
    "        winner = getWinner(last_state)\n",
    "        \n",
    "        if player == 1:\n",
    "        \n",
    "            if winner == 1:\n",
    "                stats[\"win\"] += 1\n",
    "            elif winner == 0:\n",
    "                stats[\"draw\"] += 1\n",
    "            else:\n",
    "                stats[\"loss\"] += 1\n",
    "                \n",
    "        else:\n",
    "            \n",
    "            if winner == 2:\n",
    "                stats[\"win\"] += 1\n",
    "            elif winner == 0:\n",
    "                stats[\"draw\"] += 1\n",
    "            else:\n",
    "                stats[\"loss\"] += 1\n",
    "                \n",
    "    return stats"
   ]
  },
  {
   "cell_type": "code",
   "execution_count": 11,
   "metadata": {},
   "outputs": [
    {
     "data": {
      "text/plain": [
       "{'win': 9, 'loss': 0, 'draw': 4, 'total games': 13}"
      ]
     },
     "execution_count": 11,
     "metadata": {},
     "output_type": "execute_result"
    }
   ],
   "source": [
    "csv_game_stats(df, player=1)"
   ]
  },
  {
   "cell_type": "code",
   "execution_count": 12,
   "metadata": {},
   "outputs": [],
   "source": [
    "def generate_heatmap(df, player=1, win=True, loss=False, draw=False, probability=True):\n",
    "    # control logic\n",
    "    if loss:\n",
    "        win, draw = False, False\n",
    "    if draw:\n",
    "        win, loss = False, False\n",
    "    \n",
    "    \n",
    "    move_data = []\n",
    "    \n",
    "    for each in np.unique(df[\"Game ID\"]):\n",
    "        first_move = get_first_move(df=df, game_id=each) # returns (game_id, i, j, winner, board_length)\n",
    "        move_data.append(first_move)  \n",
    "\n",
    "    n = move_data[0][4]\n",
    "    \n",
    "    arr = np.ndarray(shape=(n,n))\n",
    "    arr.fill(0)\n",
    "    stats = csv_game_stats(df=df, player=player)\n",
    "    \n",
    "    for each in move_data:\n",
    "        winner = each[3]\n",
    "        i = each[1]\n",
    "        j = each[2]\n",
    "        \n",
    "        if win:\n",
    "            if winner == player:\n",
    "                arr[i][j] += 1\n",
    "        elif loss:\n",
    "            if player == 1:\n",
    "                if winner == 2:\n",
    "                    arr[i][j] += 1\n",
    "            elif player == 2:\n",
    "                if winner == 1:\n",
    "                    arr[i][j] += 1\n",
    "        elif draw:\n",
    "            if winner == 0:\n",
    "                arr[i][j] += 1\n",
    "                    \n",
    "    \n",
    "    ax = plt.axes()\n",
    "        \n",
    "    if probability:\n",
    "        \n",
    "        if win:\n",
    "            ax.set_title(f\"Win probability as function of first move made for player {player} - {len(move_data)} games\")\n",
    "            ax = sns.heatmap(arr/stats[\"win\"], annot=True, fmt=\"f\", ax = ax)\n",
    "        elif loss:\n",
    "            ax.set_title(f\"Loss probability as function of first move made for player {player} - {len(move_data)} games\")\n",
    "            ax = sns.heatmap(arr/stats[\"loss\"], annot=True, fmt=\"f\", ax = ax)\n",
    "        elif draw:\n",
    "            ax.set_title(f\"Draw probability as function of first move made for player {player} - {len(move_data)} games\")\n",
    "            ax = sns.heatmap(arr/stats[\"draw\"], annot=True, fmt=\"f\", ax = ax)\n",
    "        \n",
    "        \n",
    "    else:\n",
    "        \n",
    "        if win:\n",
    "            ax.set_title(f\"Total wins as function of first move made for player {player} - {len(move_data)} games\")\n",
    "        elif loss:\n",
    "            ax.set_title(f\"Total losses as function of first move made for player {player} - {len(move_data)} games\")\n",
    "        elif draw:\n",
    "            ax.set_title(f\"Total draws as function of first move made for player {player} - {len(move_data)} games\")\n",
    "\n",
    "        ax = sns.heatmap(arr, annot=True, fmt=\"f\", ax = ax)\n",
    "        \n",
    "    plt.show()    \n",
    "    "
   ]
  },
  {
   "cell_type": "code",
   "execution_count": 13,
   "metadata": {},
   "outputs": [
    {
     "data": {
      "image/png": "[encoded data removed]",
      "text/plain": [
       "<Figure size 432x288 with 2 Axes>"
      ]
     },
     "metadata": {
      "needs_background": "light"
     },
     "output_type": "display_data"
    }
   ],
   "source": [
    "generate_heatmap(df, player=1)"
   ]
  },
  {
   "cell_type": "code",
   "execution_count": null,
   "metadata": {},
   "outputs": [],
   "source": []
  }
 ],
 "metadata": {
  "kernelspec": {
   "display_name": "Python 3 (ipykernel)",
   "language": "python",
   "name": "python3"
  },
  "language_info": {
   "codemirror_mode": {
    "name": "ipython",
    "version": 3
   },
   "file_extension": ".py",
   "mimetype": "text/x-python",
   "name": "python",
   "nbconvert_exporter": "python",
   "pygments_lexer": "ipython3",
   "version": "3.8.12"
  }
 },
 "nbformat": 4,
 "nbformat_minor": 4
}
