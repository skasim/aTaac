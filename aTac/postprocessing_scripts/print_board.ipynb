{
 "cells": [
  {
   "cell_type": "code",
   "execution_count": 21,
   "id": "c40b31f4",
   "metadata": {},
   "outputs": [],
   "source": [
    "def printBoard(board):\n",
    "    boardstr = \"\"\n",
    "    for i in range(len(board)):\n",
    "        for j in range(len(board[i])):\n",
    "            mark = ' '\n",
    "            if board[i][j] == 1:\n",
    "                mark = 'X'\n",
    "            elif board[i][j] == 2:\n",
    "                mark = 'O'\n",
    "            if (j == len(board[i]) - 1):\n",
    "                boardstr += mark\n",
    "            else:\n",
    "                boardstr += f\"{str(mark)}|\"\n",
    "        if (i < len(board) - 1):\n",
    "            if len(board) == 3:\n",
    "                boardstr+=(\"\\n-----\\n\")\n",
    "            else:\n",
    "                boardstr +=(\"\\n----------\\n\")\n",
    "    return boardstr\n"
   ]
  },
  {
   "cell_type": "code",
   "execution_count": 23,
   "id": "7b782b86",
   "metadata": {},
   "outputs": [
    {
     "name": "stdout",
     "output_type": "stream",
     "text": [
      "X| | | | \n",
      "----------\n",
      " | | | | \n",
      "----------\n",
      " | | | | \n",
      "----------\n",
      " | | | | \n",
      "----------\n",
      " | | | | \n"
     ]
    }
   ],
   "source": [
    "b = [[1, 0, 0, 0, 0], [0, 0, 0, 0, 0], [0, 0, 0, 0, 0], [0, 0, 0, 0, 0], [0, 0, 0, 0, 0]]\n",
    "print(printBoard(b))"
   ]
  },
  {
   "cell_type": "code",
   "execution_count": 8,
   "id": "acbdc4b2",
   "metadata": {},
   "outputs": [
    {
     "name": "stdout",
     "output_type": "stream",
     "text": [
      "g*e*e*k*s\n"
     ]
    }
   ],
   "source": [
    "list1 = ['g','e','e','k', 's'] \n",
    "print(\"*\".join(list1))"
   ]
  },
  {
   "cell_type": "code",
   "execution_count": null,
   "id": "a59b7dc6",
   "metadata": {},
   "outputs": [],
   "source": []
  }
 ],
 "metadata": {
  "kernelspec": {
   "display_name": "Python (advAI-game)",
   "language": "python",
   "name": "advai-game"
  },
  "language_info": {
   "codemirror_mode": {
    "name": "ipython",
    "version": 3
   },
   "file_extension": ".py",
   "mimetype": "text/x-python",
   "name": "python",
   "nbconvert_exporter": "python",
   "pygments_lexer": "ipython3",
   "version": "3.8.12"
  },
  "varInspector": {
   "cols": {
    "lenName": 16,
    "lenType": 16,
    "lenVar": 40
   },
   "kernels_config": {
    "python": {
     "delete_cmd_postfix": "",
     "delete_cmd_prefix": "del ",
     "library": "var_list.py",
     "varRefreshCmd": "print(var_dic_list())"
    },
    "r": {
     "delete_cmd_postfix": ") ",
     "delete_cmd_prefix": "rm(",
     "library": "var_list.r",
     "varRefreshCmd": "cat(var_dic_list()) "
    }
   },
   "types_to_exclude": [
    "module",
    "function",
    "builtin_function_or_method",
    "instance",
    "_Feature"
   ],
   "window_display": false
  }
 },
 "nbformat": 4,
 "nbformat_minor": 5
}
