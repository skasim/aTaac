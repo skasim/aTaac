{
 "cells": [
  {
   "cell_type": "code",
   "execution_count": 1,
   "id": "c738756d",
   "metadata": {},
   "outputs": [],
   "source": [
    "# script to determine number of moves in a game"
   ]
  },
  {
   "cell_type": "code",
   "execution_count": 2,
   "id": "42d779e2",
   "metadata": {},
   "outputs": [],
   "source": [
    "import pandas as pd\n",
    "import numpy as np\n",
    "import seaborn as sns\n",
    "import ast"
   ]
  },
  {
   "cell_type": "code",
   "execution_count": 3,
   "id": "e61aec03",
   "metadata": {},
   "outputs": [],
   "source": [
    "#filename = \"3x3game_p1minimax0_p2minimax5_2022_04_11-07_54_04_PM.csv\"\n",
    "#filename = \"output_5x5.csv\"\n",
    "#\n",
    "#df = pd.read_csv(filename, header=None)\n",
    "#df.columns = [\"Previous State\", \"Next State\", \"Player\", \"Cyber Move\", \"Game ID\"]"
   ]
  },
  {
   "cell_type": "code",
   "execution_count": 4,
   "id": "0b2d4297",
   "metadata": {},
   "outputs": [],
   "source": [
    "#df"
   ]
  },
  {
   "cell_type": "code",
   "execution_count": 5,
   "id": "1c5abaab",
   "metadata": {},
   "outputs": [],
   "source": [
    "def get_nmoves(df, game_id):\n",
    "    value_counts = df[\"Game ID\"].value_counts()\n",
    "    return value_counts[game_id]"
   ]
  },
  {
   "cell_type": "code",
   "execution_count": 8,
   "id": "55a253cf",
   "metadata": {},
   "outputs": [],
   "source": [
    "def average_nmoves(filename):\n",
    "    \n",
    "    df = pd.read_csv(filename, header=None)\n",
    "    df.columns = [\"Previous State\", \"Next State\", \"Player\", \"Cyber Move\", \"Game ID\"]\n",
    "\n",
    "    moves = 0\n",
    "\n",
    "    for each in np.unique(df[\"Game ID\"]):\n",
    "        nmoves = get_nmoves(df, game_id=each)\n",
    "        moves += nmoves\n",
    "\n",
    "    n = moves/len(np.unique(df[\"Game ID\"]))\n",
    "\n",
    "    print(f\"Average number of moves per game in {filename}: {n:4.2f}\")\n",
    "    \n",
    "    return n"
   ]
  },
  {
   "cell_type": "code",
   "execution_count": 10,
   "id": "16aa0789",
   "metadata": {},
   "outputs": [
    {
     "name": "stdout",
     "output_type": "stream",
     "text": [
      "Average number of moves per game in 3x3game_p1minimax0_p2minimax5_2022_04_11-07_54_04_PM.csv: 6.22\n"
     ]
    },
    {
     "data": {
      "text/plain": [
       "6.22"
      ]
     },
     "execution_count": 10,
     "metadata": {},
     "output_type": "execute_result"
    }
   ],
   "source": [
    "average_nmoves(filename=\"3x3game_p1minimax0_p2minimax5_2022_04_11-07_54_04_PM.csv\")"
   ]
  },
  {
   "cell_type": "code",
   "execution_count": null,
   "id": "8f25e00d",
   "metadata": {},
   "outputs": [],
   "source": []
  }
 ],
 "metadata": {
  "kernelspec": {
   "display_name": "Python 3 (ipykernel)",
   "language": "python",
   "name": "python3"
  },
  "language_info": {
   "codemirror_mode": {
    "name": "ipython",
    "version": 3
   },
   "file_extension": ".py",
   "mimetype": "text/x-python",
   "name": "python",
   "nbconvert_exporter": "python",
   "pygments_lexer": "ipython3",
   "version": "3.8.12"
  }
 },
 "nbformat": 4,
 "nbformat_minor": 5
}
